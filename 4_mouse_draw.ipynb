{
 "cells": [
  {
   "cell_type": "code",
   "execution_count": null,
   "id": "5e2c2190",
   "metadata": {},
   "outputs": [],
   "source": [
    "import cv2\n",
    "import numpy as np\n",
    "\n",
    "# VARIABLES\n",
    "drawing = False   # True while mouse down, False when mouse is up\n",
    "ix,iy = -1,-1\n",
    "\n",
    "\n",
    "# FUNCTION\n",
    "def draw_rectangle(event,x,y,flags,params):\n",
    "\n",
    "  # Grab the global variables\n",
    "  global ix,iy,drawing\n",
    "\n",
    "  if event == cv2.EVENT_LBUTTONDOWN:\n",
    "      drawing = True\n",
    "      ix,iy = x,y\n",
    "\n",
    "  elif event == cv2.EVENT_MOUSEMOVE:\n",
    "     if drawing == True:\n",
    "        cv2.rectangle(img,(ix,iy),(x,y),(0,255,0),-1 )\n",
    "\n",
    "  elif event == cv2.EVENT_LBUTTONUP:\n",
    "     drawing = False\n",
    "     cv2.rectangle(img,(ix,iy),(x,y),(0,225,0),-1)\n",
    "\n",
    "\n",
    "# SHOWING THE IMAGE\n",
    "\n",
    "# Black image\n",
    "img = np.zeros((512,512,3))\n",
    "\n",
    "# Connect is with a name window\n",
    "cv2.namedWindow(winname='my_drawing')\n",
    "\n",
    "cv2.setMouseCallback('my_drawing',draw_rectangle)\n",
    "\n",
    "while True:\n",
    "   cv2.imshow('my_drawing',img)\n",
    "   if cv2.waitKey(1) & 0xFF == 27:\n",
    "      break\n",
    "   \n",
    "cv2.destroyAllWindows()"
   ]
  }
 ],
 "metadata": {
  "language_info": {
   "name": "python"
  }
 },
 "nbformat": 4,
 "nbformat_minor": 5
}
